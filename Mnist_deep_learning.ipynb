{
  "nbformat": 4,
  "nbformat_minor": 0,
  "metadata": {
    "colab": {
      "provenance": []
    },
    "kernelspec": {
      "name": "python3",
      "display_name": "Python 3"
    },
    "language_info": {
      "name": "python"
    }
  },
  "cells": [
    {
      "cell_type": "code",
      "execution_count": null,
      "metadata": {
        "id": "9Gkn67JmLqkX"
      },
      "outputs": [],
      "source": [
        "import numpy as np\n",
        "from skimage.feature import hog\n",
        "from keras.datasets import mnist\n",
        "from sklearn.model_selection import train_test_split\n",
        "from sklearn.svm import LinearSVC\n",
        "from sklearn.neighbors import KNeighborsClassifier\n",
        "import matplotlib.pyplot as plt\n",
        "from sklearn.neural_network import MLPClassifier"
      ]
    },
    {
      "cell_type": "code",
      "source": [
        "(x_train, y_train), (x_test, y_test) = mnist.load_data()\n",
        "print(x_train.shape)\n",
        "print(x_test.shape)"
      ],
      "metadata": {
        "colab": {
          "base_uri": "https://localhost:8080/"
        },
        "id": "xl2NqZypL283",
        "outputId": "6d2f7738-280b-4782-d53f-1dd77c2f6652"
      },
      "execution_count": null,
      "outputs": [
        {
          "output_type": "stream",
          "name": "stdout",
          "text": [
            "Downloading data from https://storage.googleapis.com/tensorflow/tf-keras-datasets/mnist.npz\n",
            "11490434/11490434 [==============================] - 0s 0us/step\n",
            "(60000, 28, 28)\n",
            "(10000, 28, 28)\n"
          ]
        }
      ]
    },
    {
      "cell_type": "code",
      "source": [
        "plt.subplot(330 + 1 )\n",
        "for i in range(9):\n",
        "    img = x_train[i].reshape((28,28))\n",
        "    plt.subplot(330 + 1+i  )\n",
        "    plt.imshow(img, cmap=\"Greys\")\n",
        "plt.show()"
      ],
      "metadata": {
        "colab": {
          "base_uri": "https://localhost:8080/",
          "height": 433
        },
        "id": "SSMtAaHsL4QG",
        "outputId": "b67b2b40-e236-4e73-d14c-ad9e483663a7"
      },
      "execution_count": null,
      "outputs": [
        {
          "output_type": "display_data",
          "data": {
            "text/plain": [
              "<Figure size 640x480 with 9 Axes>"
            ],
            "image/png": "[encoded data removed]"
          },
          "metadata": {}
        }
      ]
    },
    {
      "cell_type": "code",
      "source": [
        "list_hog_fd = []\n",
        "list_hog_fd_test = []\n",
        "for feature in x_train:\n",
        "    fd = hog(feature.reshape((28, 28)), orientations=9, pixels_per_cell=(7, 7), cells_per_block=(2, 1), visualize=False)\n",
        "    list_hog_fd.append(fd)\n",
        "\n",
        "for feature in x_test:\n",
        "    fd = hog(feature.reshape((28, 28)), orientations=9, pixels_per_cell=(7,7), cells_per_block=(2, 1), visualize=False)\n",
        "    list_hog_fd_test.append(fd)\n",
        "hog_features = np.array(list_hog_fd, 'float64')\n",
        "hog_features_test = np.array(list_hog_fd_test, 'float64')\n",
        "\n",
        "x_train2,x_valid,y_train2,y_valid = train_test_split(hog_features,y_train,test_size=0.25)"
      ],
      "metadata": {
        "id": "tDwjLInuL6Ve"
      },
      "execution_count": null,
      "outputs": []
    },
    {
      "cell_type": "code",
      "source": [
        "print(hog_features.shape)\n",
        "print(hog_features_test.shape)"
      ],
      "metadata": {
        "colab": {
          "base_uri": "https://localhost:8080/"
        },
        "id": "7Aj9F9WwL9m-",
        "outputId": "39cfa600-6d07-426f-8e89-e7a144c87b4e"
      },
      "execution_count": null,
      "outputs": [
        {
          "output_type": "stream",
          "name": "stdout",
          "text": [
            "(60000, 216)\n",
            "(10000, 216)\n"
          ]
        }
      ]
    },
    {
      "cell_type": "code",
      "source": [],
      "metadata": {
        "id": "Zc4E4qPmMC2-"
      },
      "execution_count": null,
      "outputs": []
    },
    {
      "cell_type": "code",
      "source": [
        "import tensorflow as tf\n",
        "import keras\n",
        "from keras.models import Sequential\n",
        "from keras.layers import Dense"
      ],
      "metadata": {
        "id": "4fiz_5tV62yv"
      },
      "execution_count": null,
      "outputs": []
    },
    {
      "cell_type": "code",
      "source": [
        "from keras.layers.serialization import activation\n",
        "model = Sequential()\n",
        "model.add(Dense(128,activation=\"relu\"))\n",
        "model.add(Dense(64,activation=\"relu\"))\n",
        "model.add(Dense(32,activation=\"relu\"))\n",
        "model.add(Dense(16,activation=\"relu\"))\n",
        "model.add(Dense(10,activation='softmax'))\n",
        "model.compile(optimizer = 'adam', loss = keras.losses.sparse_categorical_crossentropy, metrics = ['accuracy',])\n"
      ],
      "metadata": {
        "id": "edBU_Hpt57RL"
      },
      "execution_count": null,
      "outputs": []
    },
    {
      "cell_type": "code",
      "source": [
        "model.fit(x_train2,y_train2,epochs=10,shuffle=True,validation_data=(x_valid,y_valid))"
      ],
      "metadata": {
        "colab": {
          "base_uri": "https://localhost:8080/"
        },
        "id": "oUy5gTO4MKJG",
        "outputId": "bd8b16e7-5ed1-446f-eece-5c547f7f58e1"
      },
      "execution_count": null,
      "outputs": [
        {
          "output_type": "stream",
          "name": "stdout",
          "text": [
            "Epoch 1/10\n",
            "1407/1407 [==============================] - 5s 3ms/step - loss: 0.3476 - accuracy: 0.8861 - val_loss: 0.1610 - val_accuracy: 0.9505\n",
            "Epoch 2/10\n",
            "1407/1407 [==============================] - 5s 3ms/step - loss: 0.1350 - accuracy: 0.9569 - val_loss: 0.1337 - val_accuracy: 0.9579\n",
            "Epoch 3/10\n",
            "1407/1407 [==============================] - 6s 4ms/step - loss: 0.1091 - accuracy: 0.9642 - val_loss: 0.1150 - val_accuracy: 0.9648\n",
            "Epoch 4/10\n",
            "1407/1407 [==============================] - 5s 3ms/step - loss: 0.0899 - accuracy: 0.9700 - val_loss: 0.1034 - val_accuracy: 0.9661\n",
            "Epoch 5/10\n",
            "1407/1407 [==============================] - 4s 3ms/step - loss: 0.0751 - accuracy: 0.9756 - val_loss: 0.1050 - val_accuracy: 0.9681\n",
            "Epoch 6/10\n",
            "1407/1407 [==============================] - 4s 3ms/step - loss: 0.0653 - accuracy: 0.9788 - val_loss: 0.1135 - val_accuracy: 0.9645\n",
            "Epoch 7/10\n",
            "1407/1407 [==============================] - 4s 3ms/step - loss: 0.0560 - accuracy: 0.9817 - val_loss: 0.1266 - val_accuracy: 0.9641\n",
            "Epoch 8/10\n",
            "1407/1407 [==============================] - 4s 3ms/step - loss: 0.0493 - accuracy: 0.9832 - val_loss: 0.1010 - val_accuracy: 0.9717\n",
            "Epoch 9/10\n",
            "1407/1407 [==============================] - 4s 3ms/step - loss: 0.0411 - accuracy: 0.9862 - val_loss: 0.1042 - val_accuracy: 0.9721\n",
            "Epoch 10/10\n",
            "1407/1407 [==============================] - 5s 4ms/step - loss: 0.0391 - accuracy: 0.9870 - val_loss: 0.1082 - val_accuracy: 0.9692\n"
          ]
        },
        {
          "output_type": "execute_result",
          "data": {
            "text/plain": [
              "<keras.callbacks.History at 0x7ce58e5116f0>"
            ]
          },
          "metadata": {},
          "execution_count": 13
        }
      ]
    },
    {
      "cell_type": "code",
      "source": [
        "y_pred=model.predict(hog_features_test)"
      ],
      "metadata": {
        "colab": {
          "base_uri": "https://localhost:8080/"
        },
        "id": "OEkq9wGy7fZz",
        "outputId": "18676231-4c87-42eb-e6f1-43659b352e7d"
      },
      "execution_count": null,
      "outputs": [
        {
          "output_type": "stream",
          "name": "stdout",
          "text": [
            "313/313 [==============================] - 1s 2ms/step\n"
          ]
        }
      ]
    },
    {
      "cell_type": "code",
      "source": [
        "y=[np.argmax(x) for x in y_pred]"
      ],
      "metadata": {
        "id": "AIbb6k0v-cuR"
      },
      "execution_count": null,
      "outputs": []
    },
    {
      "cell_type": "code",
      "source": [
        "from sklearn.metrics import classification_report,confusion_matrix\n",
        "print(classification_report(y_test,y))"
      ],
      "metadata": {
        "colab": {
          "base_uri": "https://localhost:8080/"
        },
        "id": "TV97d5ZI-80h",
        "outputId": "1890c69a-38e4-4012-f04c-0439e6da0ae3"
      },
      "execution_count": null,
      "outputs": [
        {
          "output_type": "stream",
          "name": "stdout",
          "text": [
            "              precision    recall  f1-score   support\n",
            "\n",
            "           0       0.97      0.99      0.98       980\n",
            "           1       0.99      0.98      0.98      1135\n",
            "           2       0.98      0.98      0.98      1032\n",
            "           3       0.97      0.96      0.96      1010\n",
            "           4       0.96      0.98      0.97       982\n",
            "           5       0.95      0.98      0.97       892\n",
            "           6       0.98      0.98      0.98       958\n",
            "           7       0.98      0.97      0.97      1028\n",
            "           8       0.97      0.94      0.96       974\n",
            "           9       0.97      0.93      0.95      1009\n",
            "\n",
            "    accuracy                           0.97     10000\n",
            "   macro avg       0.97      0.97      0.97     10000\n",
            "weighted avg       0.97      0.97      0.97     10000\n",
            "\n"
          ]
        }
      ]
    },
    {
      "cell_type": "code",
      "source": [
        "print(confusion_matrix(y_test,y))"
      ],
      "metadata": {
        "colab": {
          "base_uri": "https://localhost:8080/"
        },
        "id": "CNArbxBd_YwH",
        "outputId": "fc6cfbf6-5d60-47cf-e31b-a36b53569bab"
      },
      "execution_count": null,
      "outputs": [
        {
          "output_type": "stream",
          "name": "stdout",
          "text": [
            "[[17278   440   251    98    51]\n",
            " [   86   450    14     2     4]\n",
            " [   28    20  1368    31     1]\n",
            " [   11     1     7   142     1]\n",
            " [   17     6    15     0  1570]]\n"
          ]
        }
      ]
    },
    {
      "cell_type": "code",
      "source": [
        "y_tr=y_train2[np.where((y_train2 == 9) | (y_train2 == 5))]\n",
        "x_tr=x_train2[np.where((y_train2 == 9) | (y_train2 == 5))]\n",
        "\n",
        "y_v=y_valid[np.where((y_valid == 9) | (y_valid == 5))]\n",
        "x_v=x_valid[np.where((y_valid == 9) | (y_valid == 5))]\n",
        "\n",
        "y_t=y_test[np.where((y_test == 9) | (y_test == 5))]\n",
        "x_t=hog_features_test[np.where((y_test == 9) | (y_test == 5))]"
      ],
      "metadata": {
        "id": "Go4Vm6wTO0iQ"
      },
      "execution_count": null,
      "outputs": []
    },
    {
      "cell_type": "code",
      "source": [
        "y_tr=[ 1 if x ==9 else 0 for x in y_tr]\n",
        "y_v=[ 1 if x ==9 else 0 for x in y_v]\n",
        "y_t=[ 1 if x ==9 else 0 for x in y_t]"
      ],
      "metadata": {
        "id": "NRw5TD12Qzqr"
      },
      "execution_count": null,
      "outputs": []
    },
    {
      "cell_type": "code",
      "source": [
        "from keras.layers.serialization import activation\n",
        "model = Sequential()\n",
        "model.add(Dense(128,activation=\"relu\"))\n",
        "model.add(Dense(64,activation=\"relu\"))\n",
        "model.add(Dense(32,activation=\"relu\"))\n",
        "model.add(Dense(16,activation=\"relu\"))\n",
        "model.add(Dense(1,activation='sigmoid'))\n",
        "model.compile(optimizer = 'adam', loss = keras.losses.mse, metrics = ['accuracy',])\n"
      ],
      "metadata": {
        "id": "nUA8PSDRO3BM"
      },
      "execution_count": null,
      "outputs": []
    },
    {
      "cell_type": "code",
      "source": [
        "model.fit(x_tr, np.array(y_tr), validation_data=(x_v,np.array(y_v)), epochs=10)"
      ],
      "metadata": {
        "colab": {
          "base_uri": "https://localhost:8080/"
        },
        "id": "gf9m-b3WQ9nh",
        "outputId": "bfcfb044-0784-4d72-92f0-0f3cbb71a6b8"
      },
      "execution_count": null,
      "outputs": [
        {
          "output_type": "stream",
          "name": "stdout",
          "text": [
            "Epoch 1/10\n",
            "266/266 [==============================] - 2s 3ms/step - loss: 0.0237 - accuracy: 0.9787 - val_loss: 0.0115 - val_accuracy: 0.9854\n",
            "Epoch 2/10\n",
            "266/266 [==============================] - 1s 3ms/step - loss: 0.0047 - accuracy: 0.9942 - val_loss: 0.0078 - val_accuracy: 0.9882\n",
            "Epoch 3/10\n",
            "266/266 [==============================] - 1s 3ms/step - loss: 0.0034 - accuracy: 0.9960 - val_loss: 0.0061 - val_accuracy: 0.9913\n",
            "Epoch 4/10\n",
            "266/266 [==============================] - 1s 3ms/step - loss: 0.0026 - accuracy: 0.9969 - val_loss: 0.0038 - val_accuracy: 0.9955\n",
            "Epoch 5/10\n",
            "266/266 [==============================] - 1s 3ms/step - loss: 0.0026 - accuracy: 0.9965 - val_loss: 0.0047 - val_accuracy: 0.9937\n",
            "Epoch 6/10\n",
            "266/266 [==============================] - 1s 3ms/step - loss: 0.0022 - accuracy: 0.9971 - val_loss: 0.0039 - val_accuracy: 0.9948\n",
            "Epoch 7/10\n",
            "266/266 [==============================] - 1s 5ms/step - loss: 0.0010 - accuracy: 0.9988 - val_loss: 0.0035 - val_accuracy: 0.9955\n",
            "Epoch 8/10\n",
            "266/266 [==============================] - 1s 5ms/step - loss: 0.0012 - accuracy: 0.9984 - val_loss: 0.0034 - val_accuracy: 0.9951\n",
            "Epoch 9/10\n",
            "266/266 [==============================] - 1s 4ms/step - loss: 5.1758e-04 - accuracy: 0.9994 - val_loss: 0.0044 - val_accuracy: 0.9955\n",
            "Epoch 10/10\n",
            "266/266 [==============================] - 1s 3ms/step - loss: 6.5755e-04 - accuracy: 0.9993 - val_loss: 0.0037 - val_accuracy: 0.9958\n"
          ]
        },
        {
          "output_type": "execute_result",
          "data": {
            "text/plain": [
              "<keras.callbacks.History at 0x7ce567cb5930>"
            ]
          },
          "metadata": {},
          "execution_count": 65
        }
      ]
    },
    {
      "cell_type": "code",
      "source": [
        "y_p=model.predict(x_t)\n",
        "y_p=[1 if x >0.5 else 0 for x in y_p]"
      ],
      "metadata": {
        "colab": {
          "base_uri": "https://localhost:8080/"
        },
        "id": "f6jI-0ZWRV7q",
        "outputId": "6a3b7724-d49a-42db-fee4-7ffc0b89baaf"
      },
      "execution_count": null,
      "outputs": [
        {
          "output_type": "stream",
          "name": "stdout",
          "text": [
            "60/60 [==============================] - 0s 5ms/step\n"
          ]
        }
      ]
    },
    {
      "cell_type": "code",
      "source": [
        "from sklearn.metrics import classification_report,confusion_matrix\n",
        "print(classification_report(y_t,y_p))"
      ],
      "metadata": {
        "colab": {
          "base_uri": "https://localhost:8080/"
        },
        "id": "jHiuODikS0LI",
        "outputId": "6eb65135-0c16-4de3-eb61-76e5ecfb7fe6"
      },
      "execution_count": null,
      "outputs": [
        {
          "output_type": "stream",
          "name": "stdout",
          "text": [
            "              precision    recall  f1-score   support\n",
            "\n",
            "           0       0.99      1.00      1.00       892\n",
            "           1       1.00      0.99      1.00      1009\n",
            "\n",
            "    accuracy                           1.00      1901\n",
            "   macro avg       1.00      1.00      1.00      1901\n",
            "weighted avg       1.00      1.00      1.00      1901\n",
            "\n"
          ]
        }
      ]
    },
    {
      "cell_type": "code",
      "source": [],
      "metadata": {
        "id": "ip-KAxSdTYgt"
      },
      "execution_count": null,
      "outputs": []
    }
  ]
}